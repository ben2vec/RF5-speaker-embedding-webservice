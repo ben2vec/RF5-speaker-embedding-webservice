{
 "cells": [
  {
   "cell_type": "markdown",
   "id": "c961ce9f",
   "metadata": {},
   "source": [
    "requires the installation of the docker images for rf5 and whisper and the starting of the docker container\n",
    "\n",
    "docker run -d -p 9000:9000 -e ASR_MODEL=medium thoppe/openai-whisper-asr-webservice-predownload-medium:12-08-2022\n",
    "docker run -d -p 9001:9000 thoppe/rf5_speaker_embedding_webservice"
   ]
  },
  {
   "cell_type": "code",
   "execution_count": 46,
   "id": "3b709dff",
   "metadata": {},
   "outputs": [],
   "source": [
    "import os\n",
    "import requests\n",
    "import json\n",
    "import numpy as np\n",
    "from sklearn.metrics.pairwise import cosine_similarity\n",
    "from sklearn.cluster import KMeans, DBSCAN, SpectralClustering\n",
    "import pandas as pd"
   ]
  },
  {
   "cell_type": "code",
   "execution_count": 2,
   "id": "ecf0ad92",
   "metadata": {},
   "outputs": [],
   "source": [
    "WHISPER_PORT = 9002\n",
    "whisper_url = f\"http://localhost:{WHISPER_PORT}/asr\""
   ]
  },
  {
   "cell_type": "code",
   "execution_count": 9,
   "id": "bcc14eac",
   "metadata": {},
   "outputs": [],
   "source": [
    "file_audio = 'AndreIguodala_ESPN'\n",
    "f_audio = f\"C:/Users/qtw4/OneDrive - CDC/RANDS/whisper/whisper pipeline/raw/{file_audio}.mp3\""
   ]
  },
  {
   "cell_type": "code",
   "execution_count": 7,
   "id": "40ad001f",
   "metadata": {},
   "outputs": [
    {
     "name": "stdout",
     "output_type": "stream",
     "text": [
      " I want Iguodala. That's right. And I know what that sounds like. And it's not fair to Steph because so much defensive attention is paid to him. And I'm not saying Steph's not a better shooter. He's a way better shooter. Iguodala's got ice water in his veins. My money is on number 30.\n"
     ]
    }
   ],
   "source": [
    "with open(f_audio, \"rb\") as FIN:\n",
    "    raw_audio = FIN.read()\n",
    "\n",
    "r = requests.post(whisper_url, files={\"audio_file\": raw_audio})\n",
    "assert r.ok\n",
    "\n",
    "js = r.json()\n",
    "json_string = json.dumps(js)\n",
    "print(js[\"text\"])"
   ]
  },
  {
   "cell_type": "code",
   "execution_count": 11,
   "id": "19ba356c",
   "metadata": {},
   "outputs": [],
   "source": [
    "json_string = json.dumps(js)\n",
    "with open(f'{file_audio}.json', 'w') as outfile:\n",
    "    outfile.write(json_string)"
   ]
  },
  {
   "cell_type": "code",
   "execution_count": 18,
   "id": "da46913c",
   "metadata": {},
   "outputs": [],
   "source": [
    "file_json = open(f'{file_audio}.json',)\n",
    "data = json.load(file_json)\n",
    "EMBED_PORT = 9001\n",
    "embed_url = f\"http://localhost:{EMBED_PORT}/embed\""
   ]
  },
  {
   "cell_type": "code",
   "execution_count": null,
   "id": "9de8d3c8",
   "metadata": {},
   "outputs": [],
   "source": []
  },
  {
   "cell_type": "code",
   "execution_count": null,
   "id": "fcd52235",
   "metadata": {},
   "outputs": [],
   "source": []
  },
  {
   "cell_type": "code",
   "execution_count": 19,
   "id": "ba6ee24f",
   "metadata": {},
   "outputs": [
    {
     "data": {
      "text/plain": [
       "{'text': \" I want Iguodala. That's right. And I know what that sounds like. And it's not fair to Steph because so much defensive attention is paid to him. And I'm not saying Steph's not a better shooter. He's a way better shooter. Iguodala's got ice water in his veins. My money is on number 30.\",\n",
       " 'segments': [{'id': 0,\n",
       "   'seek': 0,\n",
       "   'start': 0.0,\n",
       "   'end': 3.0,\n",
       "   'text': \" I want Iguodala. That's right.\",\n",
       "   'tokens': [286, 528, 286, 2794, 378, 5159, 13, 663, 311, 558, 13],\n",
       "   'temperature': 0.0,\n",
       "   'avg_logprob': -0.20760823367686754,\n",
       "   'compression_ratio': 1.518716577540107,\n",
       "   'no_speech_prob': 0.05235247686505318},\n",
       "  {'id': 1,\n",
       "   'seek': 0,\n",
       "   'start': 3.0,\n",
       "   'end': 4.5,\n",
       "   'text': ' And I know what that sounds like.',\n",
       "   'tokens': [400, 286, 458, 437, 300, 3263, 411, 13],\n",
       "   'temperature': 0.0,\n",
       "   'avg_logprob': -0.20760823367686754,\n",
       "   'compression_ratio': 1.518716577540107,\n",
       "   'no_speech_prob': 0.05235247686505318},\n",
       "  {'id': 2,\n",
       "   'seek': 0,\n",
       "   'start': 4.5,\n",
       "   'end': 8.2,\n",
       "   'text': \" And it's not fair to Steph because so much defensive attention is paid to him.\",\n",
       "   'tokens': [400,\n",
       "    309,\n",
       "    311,\n",
       "    406,\n",
       "    3143,\n",
       "    281,\n",
       "    31418,\n",
       "    570,\n",
       "    370,\n",
       "    709,\n",
       "    16468,\n",
       "    3202,\n",
       "    307,\n",
       "    4835,\n",
       "    281,\n",
       "    796,\n",
       "    13],\n",
       "   'temperature': 0.0,\n",
       "   'avg_logprob': -0.20760823367686754,\n",
       "   'compression_ratio': 1.518716577540107,\n",
       "   'no_speech_prob': 0.05235247686505318},\n",
       "  {'id': 3,\n",
       "   'seek': 0,\n",
       "   'start': 8.2,\n",
       "   'end': 10.0,\n",
       "   'text': \" And I'm not saying Steph's not a better shooter.\",\n",
       "   'tokens': [400, 286, 478, 406, 1566, 31418, 311, 406, 257, 1101, 24680, 13],\n",
       "   'temperature': 0.0,\n",
       "   'avg_logprob': -0.20760823367686754,\n",
       "   'compression_ratio': 1.518716577540107,\n",
       "   'no_speech_prob': 0.05235247686505318},\n",
       "  {'id': 4,\n",
       "   'seek': 0,\n",
       "   'start': 10.0,\n",
       "   'end': 11.6,\n",
       "   'text': \" He's a way better shooter.\",\n",
       "   'tokens': [634, 311, 257, 636, 1101, 24680, 13],\n",
       "   'temperature': 0.0,\n",
       "   'avg_logprob': -0.20760823367686754,\n",
       "   'compression_ratio': 1.518716577540107,\n",
       "   'no_speech_prob': 0.05235247686505318},\n",
       "  {'id': 5,\n",
       "   'seek': 0,\n",
       "   'start': 11.6,\n",
       "   'end': 13.8,\n",
       "   'text': \" Iguodala's got ice water in his veins.\",\n",
       "   'tokens': [286, 2794, 378, 5159, 311, 658, 4435, 1281, 294, 702, 29390, 13],\n",
       "   'temperature': 0.0,\n",
       "   'avg_logprob': -0.20760823367686754,\n",
       "   'compression_ratio': 1.518716577540107,\n",
       "   'no_speech_prob': 0.05235247686505318},\n",
       "  {'id': 6,\n",
       "   'seek': 1380,\n",
       "   'start': 13.8,\n",
       "   'end': 30.8,\n",
       "   'text': ' My money is on number 30.',\n",
       "   'tokens': [50364, 1222, 1460, 307, 322, 1230, 2217, 13, 51214],\n",
       "   'temperature': 0.0,\n",
       "   'avg_logprob': -0.3603277921676636,\n",
       "   'compression_ratio': 0.7575757575757576,\n",
       "   'no_speech_prob': 0.0004936937475576997}],\n",
       " 'language': 'en'}"
      ]
     },
     "execution_count": 19,
     "metadata": {},
     "output_type": "execute_result"
    }
   ],
   "source": [
    "data"
   ]
  },
  {
   "cell_type": "code",
   "execution_count": 24,
   "id": "7db9c460",
   "metadata": {},
   "outputs": [],
   "source": [
    "#open file as raw bites\n",
    "\n",
    "with open(f'{file_audio}.json', \"rb\") as FIN:\n",
    "    whisper_content = FIN.read()"
   ]
  },
  {
   "cell_type": "code",
   "execution_count": 26,
   "id": "303d3411",
   "metadata": {},
   "outputs": [
    {
     "data": {
      "text/plain": [
       "array([0, 0, 0, 0, 0, 0, 1])"
      ]
     },
     "execution_count": 26,
     "metadata": {},
     "output_type": "execute_result"
    }
   ],
   "source": [
    "r = requests.post(embed_url, files={\"audio_file\": raw_audio, \"whisper_file\": whisper_content})\n",
    "assert r.ok"
   ]
  },
  {
   "cell_type": "code",
   "execution_count": 49,
   "id": "a09f6acd",
   "metadata": {},
   "outputs": [
    {
     "data": {
      "text/plain": [
       "array([0, 0, 0, 0, 0, 0, 1])"
      ]
     },
     "execution_count": 49,
     "metadata": {},
     "output_type": "execute_result"
    }
   ],
   "source": [
    "vecs = r.json()\n",
    "array = np.array(vecs)\n",
    "#segments = pd.DataFrame(js['segments'])\n",
    "kmeans = KMeans(n_clusters=2, random_state=0).fit(array)\n",
    "kmeans.labels_"
   ]
  },
  {
   "cell_type": "code",
   "execution_count": 27,
   "id": "72301c73",
   "metadata": {},
   "outputs": [],
   "source": [
    "from sklearn.cluster import DBSCAN"
   ]
  },
  {
   "cell_type": "code",
   "execution_count": 50,
   "id": "6529728c",
   "metadata": {},
   "outputs": [
    {
     "data": {
      "text/plain": [
       "array([ 0,  0,  0,  0,  0,  0, -1], dtype=int64)"
      ]
     },
     "execution_count": 50,
     "metadata": {},
     "output_type": "execute_result"
    }
   ],
   "source": [
    "dbscan_cluster = DBSCAN(eps=1).fit(array)\n",
    "dbscan_cluster.labels_"
   ]
  },
  {
   "cell_type": "code",
   "execution_count": null,
   "id": "12a9d701",
   "metadata": {},
   "outputs": [],
   "source": [
    "#assigns to cluster - but can throw out based on the audio\n",
    "#docs - says throws out based on audio, doesn't find speaker until end, so it sees it as one speaker"
   ]
  },
  {
   "cell_type": "code",
   "execution_count": 51,
   "id": "7eea30ca",
   "metadata": {},
   "outputs": [
    {
     "data": {
      "text/plain": [
       "array([1, 1, 1, 1, 1, 1, 0])"
      ]
     },
     "execution_count": 51,
     "metadata": {},
     "output_type": "execute_result"
    }
   ],
   "source": [
    "clustering = SpectralClustering(n_clusters=2, random_state=0).fit(array)\n",
    "clustering.labels_"
   ]
  },
  {
   "cell_type": "code",
   "execution_count": null,
   "id": "0d3d92c8",
   "metadata": {},
   "outputs": [],
   "source": [
    "segments['speaker'] = kmeans.labels_"
   ]
  },
  {
   "cell_type": "code",
   "execution_count": null,
   "id": "8d41e1be",
   "metadata": {},
   "outputs": [],
   "source": [
    "sim = np.round(cosine_similarity(vecs), 2)\n",
    "print(sim)"
   ]
  },
  {
   "cell_type": "code",
   "execution_count": 6,
   "id": "bf56a386",
   "metadata": {},
   "outputs": [
    {
     "ename": "TypeError",
     "evalue": "unsupported operand type(s) for /: 'str' and 'str'",
     "output_type": "error",
     "traceback": [
      "\u001b[1;31m---------------------------------------------------------------------------\u001b[0m",
      "\u001b[1;31mTypeError\u001b[0m                                 Traceback (most recent call last)",
      "\u001b[1;32m~\\AppData\\Local\\Temp\\1\\ipykernel_8588\\2164057717.py\u001b[0m in \u001b[0;36m<module>\u001b[1;34m\u001b[0m\n\u001b[0;32m     16\u001b[0m     \u001b[0mfile_name\u001b[0m \u001b[1;33m=\u001b[0m \u001b[1;34mf'whisper_transcription_:{file}'\u001b[0m\u001b[1;33m\u001b[0m\u001b[1;33m\u001b[0m\u001b[0m\n\u001b[0;32m     17\u001b[0m     \u001b[1;31m# output\u001b[0m\u001b[1;33m\u001b[0m\u001b[1;33m\u001b[0m\u001b[1;33m\u001b[0m\u001b[0m\n\u001b[1;32m---> 18\u001b[1;33m     \u001b[1;32mwith\u001b[0m \u001b[0mopen\u001b[0m\u001b[1;33m(\u001b[0m\u001b[1;34m\"json_results\"\u001b[0m\u001b[1;33m/\u001b[0m\u001b[1;34mf'whisper_transcription_:{file}'\u001b[0m\u001b[1;33m,\u001b[0m \u001b[1;34m'w'\u001b[0m\u001b[1;33m)\u001b[0m \u001b[1;32mas\u001b[0m \u001b[0moutfile\u001b[0m\u001b[1;33m:\u001b[0m\u001b[1;33m\u001b[0m\u001b[1;33m\u001b[0m\u001b[0m\n\u001b[0m\u001b[0;32m     19\u001b[0m         \u001b[0mjson\u001b[0m\u001b[1;33m.\u001b[0m\u001b[0mdump\u001b[0m\u001b[1;33m(\u001b[0m\u001b[0mjs\u001b[0m\u001b[1;33m,\u001b[0m \u001b[0moutfile\u001b[0m\u001b[1;33m)\u001b[0m\u001b[1;33m\u001b[0m\u001b[1;33m\u001b[0m\u001b[0m\n\u001b[0;32m     20\u001b[0m     \u001b[0mprint\u001b[0m\u001b[1;33m(\u001b[0m\u001b[1;34m'Completed Transcription: '\u001b[0m\u001b[1;33m,\u001b[0m \u001b[0mfile\u001b[0m\u001b[1;33m)\u001b[0m\u001b[1;33m\u001b[0m\u001b[1;33m\u001b[0m\u001b[0m\n",
      "\u001b[1;31mTypeError\u001b[0m: unsupported operand type(s) for /: 'str' and 'str'"
     ]
    }
   ],
   "source": [
    "# Get a list of all files in the RAW folder\n",
    "raw_files = os.listdir(\"raw\")\n",
    "\n",
    "# Iterate over the files in the RAW folder\n",
    "for file in raw_files:\n",
    "    # Load the file from the RAW folder\n",
    "    f_audio = os.path.join(\"raw\", file)\n",
    "    \n",
    "    with open(f_audio, \"rb\") as FIN:\n",
    "        raw_audio = FIN.read()\n",
    "    # Run the file through the model\n",
    "    r = requests.post(whisper_url, files={\"audio_file\": raw_audio})\n",
    "    assert r.ok\n",
    "   \n",
    "    js = r.json()\n",
    "    file_name = f'whisper_transcription_:{file}'\n",
    "    # output \n",
    "    with open(\"json_results\"/f'whisper_transcription_:{file}', 'w') as outfile:\n",
    "        json.dump(js, outfile)\n",
    "    print('Completed Transcription: ', file)"
   ]
  },
  {
   "cell_type": "code",
   "execution_count": null,
   "id": "f2f47676",
   "metadata": {},
   "outputs": [],
   "source": [
    "WHISPER_PORT = 9000\n",
    "EMBED_PORT = 9001\n",
    "\n",
    "whisper_url = f\"http://localhost:{WHISPER_PORT}/asr\"\n",
    "embed_url = f\"http://localhost:{EMBED_PORT}/embed\"\n",
    "\n",
    "f_audio = \"espn_first_take.mp3\"\n",
    "\n",
    "with open(f_audio, \"rb\") as FIN:\n",
    "    raw_audio = FIN.read()"
   ]
  }
 ],
 "metadata": {
  "kernelspec": {
   "display_name": "Python 3 (ipykernel)",
   "language": "python",
   "name": "python3"
  },
  "language_info": {
   "codemirror_mode": {
    "name": "ipython",
    "version": 3
   },
   "file_extension": ".py",
   "mimetype": "text/x-python",
   "name": "python",
   "nbconvert_exporter": "python",
   "pygments_lexer": "ipython3",
   "version": "3.8.8"
  }
 },
 "nbformat": 4,
 "nbformat_minor": 5
}
