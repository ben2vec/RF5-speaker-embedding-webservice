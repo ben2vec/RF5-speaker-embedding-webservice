{
 "cells": [
  {
   "cell_type": "code",
   "execution_count": 2,
   "id": "f68ce906",
   "metadata": {},
   "outputs": [],
   "source": [
    "import os\n",
    "import requests\n",
    "import json\n",
    "import numpy as np\n",
    "from sklearn.metrics.pairwise import cosine_similarity\n",
    "from sklearn.cluster import KMeans, DBSCAN, SpectralClustering\n",
    "import pandas as pd"
   ]
  },
  {
   "cell_type": "code",
   "execution_count": 3,
   "id": "ade2d204",
   "metadata": {},
   "outputs": [],
   "source": [
    "WHISPER_PORT = 9002\n",
    "whisper_url = f\"http://localhost:{WHISPER_PORT}/asr\""
   ]
  },
  {
   "cell_type": "code",
   "execution_count": null,
   "id": "8301c756",
   "metadata": {},
   "outputs": [],
   "source": [
    "#need to create the json_files folder that saves the json results prior to running the code below"
   ]
  },
  {
   "cell_type": "code",
   "execution_count": 10,
   "id": "7d654fdd",
   "metadata": {},
   "outputs": [],
   "source": [
    "# Get a list of all files in the RAW folder\n",
    "raw_files = os.listdir(\"raw\")\n",
    "\n",
    "# Iterate over the files in the RAW folder\n",
    "for file in raw_files:\n",
    "    # Load the file from the RAW folder\n",
    "    f_name = file[:-4]\n",
    "    f_audio = os.path.join(\"raw\", file)\n",
    "    with open(f_audio, \"rb\") as FIN:\n",
    "        raw_audio = FIN.read()\n",
    "\n",
    "    r = requests.post(whisper_url, files={\"audio_file\": raw_audio})\n",
    "    assert r.ok\n",
    "    js = r.json()\n",
    "    json_string = json.dumps(js)\n",
    "    with open(f'C:/Users/qtw4/OneDrive - CDC/RANDS/whisper/whisper pipeline/json_files/{f_name}.json', 'w') as outfile:\n",
    "        outfile.write(json_string)\n"
   ]
  },
  {
   "cell_type": "code",
   "execution_count": 11,
   "id": "d652e12c",
   "metadata": {},
   "outputs": [],
   "source": [
    "EMBED_PORT = 9001\n",
    "embed_url = f\"http://localhost:{EMBED_PORT}/embed\""
   ]
  },
  {
   "cell_type": "code",
   "execution_count": 14,
   "id": "490dac01",
   "metadata": {},
   "outputs": [],
   "source": [
    "raw_files = os.listdir(\"json_files\")\n",
    "\n",
    "# Iterate over the files in the RAW folder\n",
    "for file in raw_files:\n",
    "    f_name = file[:-5]\n",
    "    f_json = os.path.join(\"json_files\", file)\n",
    "    with open(f'{f_json}', \"rb\") as FIN:\n",
    "        whisper_content = FIN.read()\n",
    "    f_audio = os.path.join(\"raw\", f_name+'.mp3')\n",
    "    with open(f_audio, \"rb\") as FIN:\n",
    "        raw_audio = FIN.read()\n",
    "    r = requests.post(embed_url, files={\"audio_file\": raw_audio, \"whisper_file\": whisper_content})\n",
    "    assert r.ok\n",
    "    vecs = r.json()\n",
    "    array = np.array(vecs)\n",
    "    "
   ]
  }
 ],
 "metadata": {
  "kernelspec": {
   "display_name": "Python 3 (ipykernel)",
   "language": "python",
   "name": "python3"
  },
  "language_info": {
   "codemirror_mode": {
    "name": "ipython",
    "version": 3
   },
   "file_extension": ".py",
   "mimetype": "text/x-python",
   "name": "python",
   "nbconvert_exporter": "python",
   "pygments_lexer": "ipython3",
   "version": "3.8.8"
  }
 },
 "nbformat": 4,
 "nbformat_minor": 5
}
